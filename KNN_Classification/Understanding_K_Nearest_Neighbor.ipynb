{
  "nbformat": 4,
  "nbformat_minor": 0,
  "metadata": {
    "colab": {
      "name": "K-Nearest Neighbor Classification",
      "provenance": [],
      "collapsed_sections": []
    },
    "kernelspec": {
      "name": "python3",
      "display_name": "Python 3"
    },
    "language_info": {
      "name": "python"
    }
  },
  "cells": [
    {
      "cell_type": "markdown",
      "source": [
        "# K-Nearest Neighbors(KNN):\n",
        "\n",
        "The KNN ia an Algorithm that can be used for both regression and classification task and it is a very simple one at that too.   \n",
        "The basic principle behind KNN algorithm is the calculation of 'Distance' between the data instance for which class has to be predicted and every data point in the training data.  \n",
        "The only parameter that goes into the algorithm(except regularization terms) is the value of 'K'. Which signifies the number of nearest neighbor of the data instances that the algorithm will consider while making predictions.\n",
        "\n",
        "## KNN Algorithm\n",
        "\n",
        "1. Memorize all of the training data\n",
        "2. Take the data instance for prediction.\n",
        "3. Calculate the 'Distance' between the data instance and every data point in the training data\n",
        "4. find the 'K' Nearest neighbors\n",
        "5. Give the prediction(Generally using a majority vote between the nearest neighbors) using some averaging technique.\n",
        "\n",
        "### How to calculate Distance.\n",
        "\n",
        "Various types of distance metrics can be used in the KNN Algorithm but the most commonly used distance metric is Euclidean Distance(Minkowski, p=2). \n",
        "\n",
        "The Euclidean distance in 2-D is what is known as the cartesian distance.\n",
        "\n",
        "![Euc dist](https://www.tutorialexample.com/wp-content/uploads/2020/05/Euclidean-distance-in-tensorflow.png)\n",
        "\n",
        "The Euclidean distance is easy to visualize in 2D but harder to do so in a real world problem where there are 100 of features in the dataset. In order to calculate the distance for a feature space with $h$ features we can generalize the equation shown above as:\n",
        "\n",
        "$$Euclidean~Distance(d) = \\left( \\sum_{i=0}^h (x_{2i}  - x_{1i})^2\\right)^{0.5}$$\n",
        "\n",
        "Where: \n",
        "\n",
        "$$x_1 = \\left[ x_{11}, x_{12}, x_{13}, \\dots,x_{1k} \\right]  ~~\\&~~ x_2 = \\left[ x_{21}, x_{22}, x_{23}, \\dots,x_{2k} \\right]$$"
      ],
      "metadata": {
        "id": "jczLO3D6Uh6s"
      }
    },
    {
      "cell_type": "markdown",
      "source": [
        "# Implementation of KNN Classification\n",
        "\n",
        "In this Implementation, KNN will be modeled as a classification algorithm. The prediction will be calculated by a simple majority vote between the nearest neighbors"
      ],
      "metadata": {
        "id": "lDw01r8fZyvg"
      }
    },
    {
      "cell_type": "code",
      "execution_count": 125,
      "metadata": {
        "colab": {
          "base_uri": "https://localhost:8080/"
        },
        "id": "BD0s9aFdwlbU",
        "outputId": "1cf84698-fd73-4076-bed0-c576cf3f0107"
      },
      "outputs": [
        {
          "output_type": "execute_result",
          "data": {
            "text/plain": [
              "array([[6.9, 3.1, 5.1, 2.3],\n",
              "       [5.6, 3. , 4.1, 1.3],\n",
              "       [4.9, 3.6, 1.4, 0.1],\n",
              "       [5. , 3.5, 1.3, 0.3],\n",
              "       [5. , 3. , 1.6, 0.2]])"
            ]
          },
          "metadata": {},
          "execution_count": 125
        }
      ],
      "source": [
        "#First we need a sample dataset on which we can test our algorithms\n",
        "#We can use the iris dataset that is built-in sklearn library\n",
        "from sklearn.datasets import load_iris\n",
        "\n",
        "data = load_iris()\n",
        "X = data.data\n",
        "y = data.target\n",
        "\n",
        "#Splitting the dataset into test and training sets\n",
        "from sklearn.model_selection import train_test_split\n",
        "\n",
        "X_train, X_test, y_train, y_test = train_test_split(X, y, test_size=0.3, random_state=24)\n",
        "\n",
        "#looking at the generated Data\n",
        "X_train[:5,:] #First Five rows"
      ]
    },
    {
      "cell_type": "code",
      "source": [
        "#Creating the KNN Algorithm\n",
        "import numpy as np\n",
        "\n",
        "class MyKNNClassification:\n",
        "\n",
        "  def __init__(self, k=3):\n",
        "    \n",
        "    self.k = k #Initialize the variable to hold the value of k\n",
        "\n",
        "  def fit(self, X, y):\n",
        "\n",
        "    self.X = X #Store the training data on memory\n",
        "    self.y = y\n",
        "\n",
        "  def _euclidean_distance(self, a, b): #Method to calculate the euclidean distance\n",
        "    \n",
        "    sum = 0\n",
        "    for i in range(self.X.shape[1]):\n",
        "      sum += (b[i] - a[i])**2\n",
        "\n",
        "    return sum**0.5\n",
        "\n",
        "  def _k_neighbors(self, pt): #Method ot find k nearest neighbors\n",
        "    \n",
        "    distances = []\n",
        "    for i in range(self.X.shape[0]):\n",
        "      dist = self._euclidean_distance(self.X[i], pt)\n",
        "      distances.append((i, dist, self.y[i]))\n",
        "\n",
        "      #Sorting the distances\n",
        "      distances.sort(key = lambda q: q[1], reverse=False)\n",
        "\n",
        "    return distances[0:self.k]\n",
        "\n",
        "  def predict(self, pt):\n",
        "\n",
        "    k_neighbors = self._k_neighbors(pt)\n",
        "    vote_counts = {}\n",
        "    for neighbor in k_neighbors: #Counting votes of k neighbors\n",
        "      response = neighbor[2]\n",
        "      vote_counts[response] = vote_counts.get(response, 0) + 1\n",
        "\n",
        "    #Sort the votes in descending order\n",
        "    Sorted_Votes = sorted(vote_counts.items(),key=lambda q: q[1], reverse=True)\n",
        "\n",
        "    return Sorted_Votes[0][0] #return the majority vote\n"
      ],
      "metadata": {
        "id": "9o65ama4b_iy"
      },
      "execution_count": 126,
      "outputs": []
    },
    {
      "cell_type": "code",
      "source": [
        "#Now, we can test our KNN Algorithm\n",
        "model = MyKNNClassification(k = 5) #Creating an instances\n",
        "model.fit(X_train,y_train) #Fitting the model\n",
        "\n",
        "#Lets try to make a prediction\n",
        "print('The Predicted class of the data point is : {}'.format(model.predict(X_test[42])))"
      ],
      "metadata": {
        "colab": {
          "base_uri": "https://localhost:8080/"
        },
        "id": "E5Yx6wUrVC25",
        "outputId": "35603ac8-3f00-48e5-d016-19ece4af0c41"
      },
      "execution_count": 127,
      "outputs": [
        {
          "output_type": "stream",
          "name": "stdout",
          "text": [
            "The Predicted class of the data point is : 0\n"
          ]
        }
      ]
    },
    {
      "cell_type": "code",
      "source": [
        "#We can also calculate the accuracy of model\n",
        "\n",
        "#Helper function to calculate accuracy\n",
        "def accuracy(y_true,y_pred):\n",
        "  accuracy = np.sum(y_true == y_pred)/len(y_true)\n",
        "  return accuracy\n",
        "\n",
        "#Getting predictions\n",
        "y_preds = []\n",
        "for x in X_test:\n",
        "  y_preds.append(model.predict(x))\n",
        "y_preds = np.array(y_preds)\n",
        "\n",
        "#Evaluating Performance on Test set\n",
        "acc = accuracy(y_test,y_preds)\n",
        "print('The Accuracy gained by our Algorithm on Test Set = {:.2f}%'.format(acc*100))"
      ],
      "metadata": {
        "colab": {
          "base_uri": "https://localhost:8080/"
        },
        "id": "gi9xt62UemAF",
        "outputId": "e402e12e-907d-4a3d-a182-a05b342ff62c"
      },
      "execution_count": 128,
      "outputs": [
        {
          "output_type": "stream",
          "name": "stdout",
          "text": [
            "The Accuracy gained by our Algorithm on Test Set = 97.78%\n"
          ]
        }
      ]
    },
    {
      "cell_type": "code",
      "source": [
        "#Our Model reached 97.78% Accuracy on the test set, lets look at 10 random predictions\n",
        "\n",
        "choices = np.random.choice(45, size=10, replace=False)\n",
        "batch_test = X_test[choices, :]\n",
        "y_actual = y_test[choices].reshape(-1,1)\n",
        "\n",
        "#Extracting predictions\n",
        "y_preds = []\n",
        "\n",
        "for x in batch_test:\n",
        "  y_preds.append(model.predict(x))\n",
        "y_preds = np.array(y_preds)\n",
        "\n",
        "#Making a dataframe of actual and predicted results\n",
        "y_preds = y_preds.reshape(-1,1)\n",
        "import pandas as pd\n",
        "df = pd.DataFrame(np.concatenate((y_actual,y_preds), axis = 1), columns = ['Actual', 'Predicted'])\n",
        "df['Remark'] = 'Incorrect Prediction'\n",
        "df.loc[df['Actual'] == df['Predicted'], 'Remark'] = 'Correct Prediction'\n",
        "df"
      ],
      "metadata": {
        "colab": {
          "base_uri": "https://localhost:8080/",
          "height": 362
        },
        "id": "OEnIHRxZiCVl",
        "outputId": "856eb195-bbf9-448e-eb42-0ab69a1d3ec7"
      },
      "execution_count": 130,
      "outputs": [
        {
          "output_type": "execute_result",
          "data": {
            "text/html": [
              "\n",
              "  <div id=\"df-a6db8ac5-3ec6-4bd0-8569-e68a0adc5f01\">\n",
              "    <div class=\"colab-df-container\">\n",
              "      <div>\n",
              "<style scoped>\n",
              "    .dataframe tbody tr th:only-of-type {\n",
              "        vertical-align: middle;\n",
              "    }\n",
              "\n",
              "    .dataframe tbody tr th {\n",
              "        vertical-align: top;\n",
              "    }\n",
              "\n",
              "    .dataframe thead th {\n",
              "        text-align: right;\n",
              "    }\n",
              "</style>\n",
              "<table border=\"1\" class=\"dataframe\">\n",
              "  <thead>\n",
              "    <tr style=\"text-align: right;\">\n",
              "      <th></th>\n",
              "      <th>Actual</th>\n",
              "      <th>Predicted</th>\n",
              "      <th>Remark</th>\n",
              "    </tr>\n",
              "  </thead>\n",
              "  <tbody>\n",
              "    <tr>\n",
              "      <th>0</th>\n",
              "      <td>2</td>\n",
              "      <td>2</td>\n",
              "      <td>Correct Prediction</td>\n",
              "    </tr>\n",
              "    <tr>\n",
              "      <th>1</th>\n",
              "      <td>0</td>\n",
              "      <td>0</td>\n",
              "      <td>Correct Prediction</td>\n",
              "    </tr>\n",
              "    <tr>\n",
              "      <th>2</th>\n",
              "      <td>0</td>\n",
              "      <td>0</td>\n",
              "      <td>Correct Prediction</td>\n",
              "    </tr>\n",
              "    <tr>\n",
              "      <th>3</th>\n",
              "      <td>1</td>\n",
              "      <td>1</td>\n",
              "      <td>Correct Prediction</td>\n",
              "    </tr>\n",
              "    <tr>\n",
              "      <th>4</th>\n",
              "      <td>1</td>\n",
              "      <td>1</td>\n",
              "      <td>Correct Prediction</td>\n",
              "    </tr>\n",
              "    <tr>\n",
              "      <th>5</th>\n",
              "      <td>0</td>\n",
              "      <td>0</td>\n",
              "      <td>Correct Prediction</td>\n",
              "    </tr>\n",
              "    <tr>\n",
              "      <th>6</th>\n",
              "      <td>1</td>\n",
              "      <td>1</td>\n",
              "      <td>Correct Prediction</td>\n",
              "    </tr>\n",
              "    <tr>\n",
              "      <th>7</th>\n",
              "      <td>2</td>\n",
              "      <td>2</td>\n",
              "      <td>Correct Prediction</td>\n",
              "    </tr>\n",
              "    <tr>\n",
              "      <th>8</th>\n",
              "      <td>2</td>\n",
              "      <td>2</td>\n",
              "      <td>Correct Prediction</td>\n",
              "    </tr>\n",
              "    <tr>\n",
              "      <th>9</th>\n",
              "      <td>0</td>\n",
              "      <td>0</td>\n",
              "      <td>Correct Prediction</td>\n",
              "    </tr>\n",
              "  </tbody>\n",
              "</table>\n",
              "</div>\n",
              "      <button class=\"colab-df-convert\" onclick=\"convertToInteractive('df-a6db8ac5-3ec6-4bd0-8569-e68a0adc5f01')\"\n",
              "              title=\"Convert this dataframe to an interactive table.\"\n",
              "              style=\"display:none;\">\n",
              "        \n",
              "  <svg xmlns=\"http://www.w3.org/2000/svg\" height=\"24px\"viewBox=\"0 0 24 24\"\n",
              "       width=\"24px\">\n",
              "    <path d=\"M0 0h24v24H0V0z\" fill=\"none\"/>\n",
              "    <path d=\"M18.56 5.44l.94 2.06.94-2.06 2.06-.94-2.06-.94-.94-2.06-.94 2.06-2.06.94zm-11 1L8.5 8.5l.94-2.06 2.06-.94-2.06-.94L8.5 2.5l-.94 2.06-2.06.94zm10 10l.94 2.06.94-2.06 2.06-.94-2.06-.94-.94-2.06-.94 2.06-2.06.94z\"/><path d=\"M17.41 7.96l-1.37-1.37c-.4-.4-.92-.59-1.43-.59-.52 0-1.04.2-1.43.59L10.3 9.45l-7.72 7.72c-.78.78-.78 2.05 0 2.83L4 21.41c.39.39.9.59 1.41.59.51 0 1.02-.2 1.41-.59l7.78-7.78 2.81-2.81c.8-.78.8-2.07 0-2.86zM5.41 20L4 18.59l7.72-7.72 1.47 1.35L5.41 20z\"/>\n",
              "  </svg>\n",
              "      </button>\n",
              "      \n",
              "  <style>\n",
              "    .colab-df-container {\n",
              "      display:flex;\n",
              "      flex-wrap:wrap;\n",
              "      gap: 12px;\n",
              "    }\n",
              "\n",
              "    .colab-df-convert {\n",
              "      background-color: #E8F0FE;\n",
              "      border: none;\n",
              "      border-radius: 50%;\n",
              "      cursor: pointer;\n",
              "      display: none;\n",
              "      fill: #1967D2;\n",
              "      height: 32px;\n",
              "      padding: 0 0 0 0;\n",
              "      width: 32px;\n",
              "    }\n",
              "\n",
              "    .colab-df-convert:hover {\n",
              "      background-color: #E2EBFA;\n",
              "      box-shadow: 0px 1px 2px rgba(60, 64, 67, 0.3), 0px 1px 3px 1px rgba(60, 64, 67, 0.15);\n",
              "      fill: #174EA6;\n",
              "    }\n",
              "\n",
              "    [theme=dark] .colab-df-convert {\n",
              "      background-color: #3B4455;\n",
              "      fill: #D2E3FC;\n",
              "    }\n",
              "\n",
              "    [theme=dark] .colab-df-convert:hover {\n",
              "      background-color: #434B5C;\n",
              "      box-shadow: 0px 1px 3px 1px rgba(0, 0, 0, 0.15);\n",
              "      filter: drop-shadow(0px 1px 2px rgba(0, 0, 0, 0.3));\n",
              "      fill: #FFFFFF;\n",
              "    }\n",
              "  </style>\n",
              "\n",
              "      <script>\n",
              "        const buttonEl =\n",
              "          document.querySelector('#df-a6db8ac5-3ec6-4bd0-8569-e68a0adc5f01 button.colab-df-convert');\n",
              "        buttonEl.style.display =\n",
              "          google.colab.kernel.accessAllowed ? 'block' : 'none';\n",
              "\n",
              "        async function convertToInteractive(key) {\n",
              "          const element = document.querySelector('#df-a6db8ac5-3ec6-4bd0-8569-e68a0adc5f01');\n",
              "          const dataTable =\n",
              "            await google.colab.kernel.invokeFunction('convertToInteractive',\n",
              "                                                     [key], {});\n",
              "          if (!dataTable) return;\n",
              "\n",
              "          const docLinkHtml = 'Like what you see? Visit the ' +\n",
              "            '<a target=\"_blank\" href=https://colab.research.google.com/notebooks/data_table.ipynb>data table notebook</a>'\n",
              "            + ' to learn more about interactive tables.';\n",
              "          element.innerHTML = '';\n",
              "          dataTable['output_type'] = 'display_data';\n",
              "          await google.colab.output.renderOutput(dataTable, element);\n",
              "          const docLink = document.createElement('div');\n",
              "          docLink.innerHTML = docLinkHtml;\n",
              "          element.appendChild(docLink);\n",
              "        }\n",
              "      </script>\n",
              "    </div>\n",
              "  </div>\n",
              "  "
            ],
            "text/plain": [
              "   Actual  Predicted              Remark\n",
              "0       2          2  Correct Prediction\n",
              "1       0          0  Correct Prediction\n",
              "2       0          0  Correct Prediction\n",
              "3       1          1  Correct Prediction\n",
              "4       1          1  Correct Prediction\n",
              "5       0          0  Correct Prediction\n",
              "6       1          1  Correct Prediction\n",
              "7       2          2  Correct Prediction\n",
              "8       2          2  Correct Prediction\n",
              "9       0          0  Correct Prediction"
            ]
          },
          "metadata": {},
          "execution_count": 130
        }
      ]
    }
  ]
}